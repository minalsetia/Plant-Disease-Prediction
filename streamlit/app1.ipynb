{
 "cells": [
  {
   "cell_type": "code",
   "execution_count": 11,
   "metadata": {},
   "outputs": [],
   "source": [
    "import os\n",
    "import streamlit as st\n",
    "import tensorflow as tf\n",
    "from tensorflow.keras.models import load_model \n",
    "from PIL import Image\n",
    "import numpy as np\n",
    "import json"
   ]
  },
  {
   "cell_type": "code",
   "execution_count": 12,
   "metadata": {},
   "outputs": [],
   "source": [
    "MODEL_PATH = r\"D:/project 7th sem/minor project/model/plant_disease_prediction_model.h5\"\n",
    "CLASS_INDICES_PATH = r\"D:/project 7th sem/minor project/Dataset/class_indices.json\"\n"
   ]
  },
  {
   "cell_type": "code",
   "execution_count": 17,
   "metadata": {},
   "outputs": [],
   "source": [
    "# Load the trained model\n",
    "@st.cache_resource  # Caches the model to prevent reloading it every time\n",
    "def load_prediction_model(model_path):\n",
    "    try:\n",
    "        if os.path.exists(model_path):\n",
    "            return load_model(model_path, compile=False)  # Skip compilation\n",
    "        else:\n",
    "            st.error(f\"Model file not found at {model_path}\")\n",
    "            return None\n",
    "    except Exception as e:\n",
    "        st.error(f\"Error loading model: {str(e)}\")\n",
    "        return None"
   ]
  },
  {
   "cell_type": "code",
   "execution_count": 18,
   "metadata": {},
   "outputs": [
    {
     "name": "stderr",
     "output_type": "stream",
     "text": [
      "2024-11-28 21:49:51.942 No runtime found, using MemoryCacheStorageManager\n"
     ]
    }
   ],
   "source": [
    "# Load class indices\n",
    "@st.cache_data  # Caches the class indices for efficient reuse\n",
    "def load_class_indices(class_indices_path):\n",
    "    if os.path.exists(class_indices_path):\n",
    "        with open(class_indices_path, 'r') as f:\n",
    "            class_indices = json.load(f)\n",
    "        # Reverse the dictionary to map indices to class names\n",
    "        return {v: k for k, v in class_indices.items()}\n",
    "    else:\n",
    "        st.error(f\"Class indices file not found at {class_indices_path}\")\n",
    "        return {}"
   ]
  },
  {
   "cell_type": "code",
   "execution_count": 19,
   "metadata": {},
   "outputs": [],
   "source": [
    "# Preprocess the uploaded image\n",
    "def preprocess_image(image, target_size=(224, 224)):\n",
    "    image = image.resize(target_size)  # Resize the image\n",
    "    img_array = np.array(image) / 255.0  # Normalize pixel values to [0, 1]\n",
    "    img_array = np.expand_dims(img_array, axis=0)  # Add batch dimension\n",
    "    return img_array"
   ]
  },
  {
   "cell_type": "code",
   "execution_count": 20,
   "metadata": {},
   "outputs": [],
   "source": [
    "# Main Streamlit application\n",
    "def main():\n",
    "    st.title(\"Plant Disease Prediction App 🌱\")\n",
    "    st.write(\"Upload an image of a plant leaf to predict its disease.\")\n",
    "\n",
    "    # Load the model and class indices\n",
    "    model = load_prediction_model(MODEL_PATH)\n",
    "    class_indices = load_class_indices(CLASS_INDICES_PATH)\n",
    "\n",
    "    if model is None or not class_indices:\n",
    "        st.error(\"Failed to load the model or class indices. Please check the file paths.\")\n",
    "        return\n",
    "\n",
    "    # File uploader\n",
    "    uploaded_file = st.file_uploader(\"Choose a plant leaf image\", type=[\"jpg\", \"jpeg\", \"png\"])\n",
    "\n",
    "    if uploaded_file is not None:\n",
    "        # Display the uploaded image\n",
    "        image = Image.open(uploaded_file)\n",
    "        st.image(image, caption=\"Uploaded Image\", use_column_width=True)\n",
    "        st.write(\"Processing...\")\n",
    "\n",
    "        # Preprocess and predict\n",
    "        preprocessed_img = preprocess_image(image)\n",
    "        predictions = model.predict(preprocessed_img)\n",
    "        predicted_class_index = np.argmax(predictions, axis=1)[0]\n",
    "\n",
    "        # Get the class name\n",
    "        predicted_class_name = class_indices.get(predicted_class_index, \"Unknown\")\n",
    "\n",
    "        # Display the result\n",
    "        st.success(f\"Predicted Disease: **{predicted_class_name}**\")\n",
    "        st.write(f\"Prediction Confidence: {predictions[0][predicted_class_index] * 100:.2f}%\")\n",
    "\n",
    "if __name__ == \"__main__\":\n",
    "    main()"
   ]
  },
  {
   "cell_type": "code",
   "execution_count": null,
   "metadata": {},
   "outputs": [],
   "source": []
  },
  {
   "cell_type": "code",
   "execution_count": null,
   "metadata": {},
   "outputs": [],
   "source": []
  }
 ],
 "metadata": {
  "kernelspec": {
   "display_name": "Python 3",
   "language": "python",
   "name": "python3"
  },
  "language_info": {
   "codemirror_mode": {
    "name": "ipython",
    "version": 3
   },
   "file_extension": ".py",
   "mimetype": "text/x-python",
   "name": "python",
   "nbconvert_exporter": "python",
   "pygments_lexer": "ipython3",
   "version": "3.11.4"
  }
 },
 "nbformat": 4,
 "nbformat_minor": 2
}
